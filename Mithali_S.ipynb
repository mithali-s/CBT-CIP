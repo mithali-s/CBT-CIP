{
  "nbformat": 4,
  "nbformat_minor": 0,
  "metadata": {
    "colab": {
      "provenance": [],
      "authorship_tag": "ABX9TyMIsCs1qizWVYAXuT61QhrC",
      "include_colab_link": true
    },
    "kernelspec": {
      "name": "python3",
      "display_name": "Python 3"
    },
    "language_info": {
      "name": "python"
    }
  },
  "cells": [
    {
      "cell_type": "markdown",
      "metadata": {
        "id": "view-in-github",
        "colab_type": "text"
      },
      "source": [
        "<a href=\"https://colab.research.google.com/github/mithali-s/CBT-CIP/blob/main/Mithali_S.ipynb\" target=\"_parent\"><img src=\"https://colab.research.google.com/assets/colab-badge.svg\" alt=\"Open In Colab\"/></a>"
      ]
    },
    {
      "cell_type": "code",
      "source": [
        "import random\n",
        "\n",
        "def main():\n",
        "    choices = [\"Rock\", \"Paper\", \"Scissors\"]\n",
        "    while True:\n",
        "        user = input(\"Choose Rock, Paper, or Scissors: \")\n",
        "        if user not in choices:\n",
        "            print(\"Invalid choice, try again.\")\n",
        "            continue\n",
        "        computer = random.choice(choices)\n",
        "        print(f\"Computer chose: {computer}\")\n",
        "        if user == computer:\n",
        "            print(\"It's a tie!\")\n",
        "        elif (user == \"Rock\" and computer == \"Scissors\") or \\\n",
        "             (user == \"Paper\" and computer == \"Rock\") or \\\n",
        "             (user == \"Scissors\" and computer == \"Paper\"):\n",
        "            print(\"You win!\")\n",
        "        else:\n",
        "            print(\"Computer wins!\")\n",
        "        if input(\"Play again? (yes/no): \").lower() != \"yes\":\n",
        "            break\n",
        "\n",
        "if __name__ == \"__main__\":\n",
        "    main()\n"
      ],
      "metadata": {
        "id": "0VbZoTokhccQ",
        "colab": {
          "base_uri": "https://localhost:8080/"
        },
        "outputId": "63ca986f-8eef-434b-9885-6c69751ac98f"
      },
      "execution_count": 2,
      "outputs": [
        {
          "name": "stdout",
          "output_type": "stream",
          "text": [
            "Choose Rock, Paper, or Scissors: Rock\n",
            "Computer chose: Scissors\n",
            "You win!\n",
            "Play again? (yes/no): Yes\n",
            "Choose Rock, Paper, or Scissors: Paper\n",
            "Computer chose: Rock\n",
            "You win!\n",
            "Play again? (yes/no): Yes\n",
            "Choose Rock, Paper, or Scissors: Scissors\n",
            "Computer chose: Scissors\n",
            "It's a tie!\n",
            "Play again? (yes/no): NO\n"
          ]
        }
      ]
    },
    {
      "cell_type": "code",
      "source": [
        "contacts = {}\n",
        "\n",
        "def add_contact():\n",
        "    name = input(\"Name: \").strip()\n",
        "    phone = input(\"Phone: \").strip()\n",
        "    contacts[name] = phone\n",
        "    print(f\"Added: {name} - {phone}\")\n",
        "\n",
        "def delete_contact():\n",
        "    name = input(\"Name to delete: \").strip()\n",
        "    if contacts.pop(name, None):\n",
        "        print(f\"Deleted: {name}\")\n",
        "    else:\n",
        "        print(\"Not found!\")\n",
        "\n",
        "def search_contact():\n",
        "    name = input(\"Name to search: \").strip()\n",
        "    print(f\"{name}: {contacts.get(name, 'Not found!')}\")\n",
        "\n",
        "def display_contacts():\n",
        "    print(\"\\nContacts:\")\n",
        "    for name, phone in contacts.items():\n",
        "        print(f\"{name}: {phone}\")\n",
        "\n",
        "while True:\n",
        "    print(\"\\n1. Add  2. Delete  3. Search  4. Display  5. Exit\")\n",
        "    choice = input(\"Choose: \").strip()\n",
        "    if choice == \"1\": add_contact()\n",
        "    elif choice == \"2\": delete_contact()\n",
        "    elif choice == \"3\": search_contact()\n",
        "    elif choice == \"4\": display_contacts()\n",
        "    elif choice == \"5\": break\n",
        "    else: print(\"Invalid choice!\")\n"
      ],
      "metadata": {
        "colab": {
          "base_uri": "https://localhost:8080/"
        },
        "id": "QdTWgsCxYrj4",
        "outputId": "8d304c38-9053-450e-cea5-6e6a945de9bf"
      },
      "execution_count": null,
      "outputs": [
        {
          "output_type": "stream",
          "name": "stdout",
          "text": [
            "\n",
            "1. Add  2. Delete  3. Search  4. Display  5. Exit\n",
            "Choose: 1\n",
            "Name: Mithali\n",
            "Phone: 9876543210\n",
            "Added: Mithali - 9876543210\n",
            "\n",
            "1. Add  2. Delete  3. Search  4. Display  5. Exit\n",
            "Choose: 3\n",
            "Name to search: Mithali\n",
            "Mithali: 9876543210\n",
            "\n",
            "1. Add  2. Delete  3. Search  4. Display  5. Exit\n",
            "Choose: 1\n",
            "Name: Niddhi  ,  Swara\n",
            "Phone: 2345167486  , 1234567890\n",
            "Added: Niddhi  ,  Swara - 2345167486  , 1234567890\n",
            "\n",
            "1. Add  2. Delete  3. Search  4. Display  5. Exit\n",
            "Choose: 3\n",
            "Name to search: Niddhi\n",
            "Niddhi: Not found!\n",
            "\n",
            "1. Add  2. Delete  3. Search  4. Display  5. Exit\n",
            "Choose: 2\n",
            "Name to delete: Mithali\n",
            "Deleted: Mithali\n",
            "\n",
            "1. Add  2. Delete  3. Search  4. Display  5. Exit\n"
          ]
        }
      ]
    }
  ]
}